{
  "nbformat": 4,
  "nbformat_minor": 0,
  "metadata": {
    "kernelspec": {
      "display_name": "Python 3",
      "language": "python",
      "name": "python3"
    },
    "language_info": {
      "codemirror_mode": {
        "name": "ipython",
        "version": 3
      },
      "file_extension": ".py",
      "mimetype": "text/x-python",
      "name": "python",
      "nbconvert_exporter": "python",
      "pygments_lexer": "ipython3",
      "version": "3.6.4"
    },
    "colab": {
      "name": "RuCases-Word2Vec_main.ipynb",
      "provenance": [],
      "collapsed_sections": [],
      "include_colab_link": true
    }
  },
  "cells": [
    {
      "cell_type": "markdown",
      "metadata": {
        "id": "view-in-github",
        "colab_type": "text"
      },
      "source": [
        "<a href=\"https://colab.research.google.com/github/9jam/w266-final-project/blob/main/RuCases_Word2Vec_main.ipynb\" target=\"_parent\"><img src=\"https://colab.research.google.com/assets/colab-badge.svg\" alt=\"Open In Colab\"/></a>"
      ]
    },
    {
      "cell_type": "markdown",
      "metadata": {
        "id": "b174jay8MPyu"
      },
      "source": [
        "# Word2Vec generation in Russian from the Meduza corpus\n",
        "## 1. LOADING DATA"
      ]
    },
    {
      "cell_type": "code",
      "metadata": {
        "id": "9gHK3x1IMwk4"
      },
      "source": [
        "import numpy as np\n",
        "import pandas as pd\n",
        "from google.colab import drive\n",
        "import seaborn as sns\n",
        "import matplotlib.pyplot as plt\n",
        "\n",
        "%matplotlib inline"
      ],
      "execution_count": null,
      "outputs": []
    },
    {
      "cell_type": "code",
      "metadata": {
        "colab": {
          "base_uri": "https://localhost:8080/"
        },
        "id": "rUjbIRs0M1Ja",
        "outputId": "f7c7a21e-b23f-4bdd-eccb-e38d80f6e364"
      },
      "source": [
        "drive.mount('/content/drive')"
      ],
      "execution_count": null,
      "outputs": [
        {
          "output_type": "stream",
          "text": [
            "Mounted at /content/drive\n"
          ],
          "name": "stdout"
        }
      ]
    },
    {
      "cell_type": "code",
      "metadata": {
        "colab": {
          "base_uri": "https://localhost:8080/",
          "height": 419
        },
        "id": "vvD7N_k4M4JB",
        "outputId": "6d791fa2-1525-46dd-815e-07d1d9d42b53"
      },
      "source": [
        "meduza_bal = pd.read_pickle(\"/content/drive/MyDrive/meduza_bert_big_df.pkl\")\n",
        "meduza_bal"
      ],
      "execution_count": null,
      "outputs": [
        {
          "output_type": "execute_result",
          "data": {
            "text/html": [
              "<div>\n",
              "<style scoped>\n",
              "    .dataframe tbody tr th:only-of-type {\n",
              "        vertical-align: middle;\n",
              "    }\n",
              "\n",
              "    .dataframe tbody tr th {\n",
              "        vertical-align: top;\n",
              "    }\n",
              "\n",
              "    .dataframe thead th {\n",
              "        text-align: right;\n",
              "    }\n",
              "</style>\n",
              "<table border=\"1\" class=\"dataframe\">\n",
              "  <thead>\n",
              "    <tr style=\"text-align: right;\">\n",
              "      <th></th>\n",
              "      <th>text</th>\n",
              "      <th>target</th>\n",
              "      <th>orig_word</th>\n",
              "      <th>new_word</th>\n",
              "      <th>case</th>\n",
              "      <th>shift_case</th>\n",
              "      <th>adj</th>\n",
              "    </tr>\n",
              "  </thead>\n",
              "  <tbody>\n",
              "    <tr>\n",
              "      <th>4636</th>\n",
              "      <td>Даже в коллективном творчестве редко можно обо...</td>\n",
              "      <td>0</td>\n",
              "      <td>произведению</td>\n",
              "      <td>произведение</td>\n",
              "      <td>Dat</td>\n",
              "      <td>Nom</td>\n",
              "      <td>0</td>\n",
              "    </tr>\n",
              "    <tr>\n",
              "      <th>65395</th>\n",
              "      <td>Кто-то промолчал по ряда личных причин.</td>\n",
              "      <td>0</td>\n",
              "      <td>ряду</td>\n",
              "      <td>ряда</td>\n",
              "      <td>Dat</td>\n",
              "      <td>Gen</td>\n",
              "      <td>0</td>\n",
              "    </tr>\n",
              "    <tr>\n",
              "      <th>87153</th>\n",
              "      <td>Направлять трафику за пределы России будет зап...</td>\n",
              "      <td>0</td>\n",
              "      <td>трафик</td>\n",
              "      <td>трафику</td>\n",
              "      <td>Acc</td>\n",
              "      <td>Dat</td>\n",
              "      <td>0</td>\n",
              "    </tr>\n",
              "    <tr>\n",
              "      <th>159623</th>\n",
              "      <td>К январю 2019 года в сети, задолжавшей кредито...</td>\n",
              "      <td>0</td>\n",
              "      <td>кредиторам</td>\n",
              "      <td>кредиторов</td>\n",
              "      <td>Dat</td>\n",
              "      <td>Acc</td>\n",
              "      <td>0</td>\n",
              "    </tr>\n",
              "    <tr>\n",
              "      <th>152020</th>\n",
              "      <td>У каждого фонда есть свой устав и положение о ...</td>\n",
              "      <td>0</td>\n",
              "      <td>программах</td>\n",
              "      <td>программ</td>\n",
              "      <td>Loc</td>\n",
              "      <td>Gen</td>\n",
              "      <td>0</td>\n",
              "    </tr>\n",
              "    <tr>\n",
              "      <th>...</th>\n",
              "      <td>...</td>\n",
              "      <td>...</td>\n",
              "      <td>...</td>\n",
              "      <td>...</td>\n",
              "      <td>...</td>\n",
              "      <td>...</td>\n",
              "      <td>...</td>\n",
              "    </tr>\n",
              "    <tr>\n",
              "      <th>25876</th>\n",
              "      <td>Главное туристическое развлечение — поездки на...</td>\n",
              "      <td>1</td>\n",
              "      <td>None</td>\n",
              "      <td>None</td>\n",
              "      <td>None</td>\n",
              "      <td>None</td>\n",
              "      <td>None</td>\n",
              "    </tr>\n",
              "    <tr>\n",
              "      <th>35014</th>\n",
              "      <td>На 11 поехала в БТИ подписывать договор с детя...</td>\n",
              "      <td>0</td>\n",
              "      <td>детьми</td>\n",
              "      <td>детям</td>\n",
              "      <td>Ins</td>\n",
              "      <td>Dat</td>\n",
              "      <td>0</td>\n",
              "    </tr>\n",
              "    <tr>\n",
              "      <th>173747</th>\n",
              "      <td>В 2017 год ситуация повторилась — и вице-премь...</td>\n",
              "      <td>0</td>\n",
              "      <td>году</td>\n",
              "      <td>год</td>\n",
              "      <td>Loc</td>\n",
              "      <td>Acc</td>\n",
              "      <td>0</td>\n",
              "    </tr>\n",
              "    <tr>\n",
              "      <th>106220</th>\n",
              "      <td>С 1 августу авиакомпания будет отчислять в спе...</td>\n",
              "      <td>0</td>\n",
              "      <td>августа</td>\n",
              "      <td>августу</td>\n",
              "      <td>Gen</td>\n",
              "      <td>Dat</td>\n",
              "      <td>0</td>\n",
              "    </tr>\n",
              "    <tr>\n",
              "      <th>93830</th>\n",
              "      <td>В результатом получилась редкая вещь — эффектн...</td>\n",
              "      <td>0</td>\n",
              "      <td>результате</td>\n",
              "      <td>результатом</td>\n",
              "      <td>Loc</td>\n",
              "      <td>Ins</td>\n",
              "      <td>0</td>\n",
              "    </tr>\n",
              "  </tbody>\n",
              "</table>\n",
              "<p>368580 rows × 7 columns</p>\n",
              "</div>"
            ],
            "text/plain": [
              "                                                     text  ...   adj\n",
              "4636    Даже в коллективном творчестве редко можно обо...  ...     0\n",
              "65395             Кто-то промолчал по ряда личных причин.  ...     0\n",
              "87153   Направлять трафику за пределы России будет зап...  ...     0\n",
              "159623  К январю 2019 года в сети, задолжавшей кредито...  ...     0\n",
              "152020  У каждого фонда есть свой устав и положение о ...  ...     0\n",
              "...                                                   ...  ...   ...\n",
              "25876   Главное туристическое развлечение — поездки на...  ...  None\n",
              "35014   На 11 поехала в БТИ подписывать договор с детя...  ...     0\n",
              "173747  В 2017 год ситуация повторилась — и вице-премь...  ...     0\n",
              "106220  С 1 августу авиакомпания будет отчислять в спе...  ...     0\n",
              "93830   В результатом получилась редкая вещь — эффектн...  ...     0\n",
              "\n",
              "[368580 rows x 7 columns]"
            ]
          },
          "metadata": {
            "tags": []
          },
          "execution_count": 57
        }
      ]
    },
    {
      "cell_type": "code",
      "metadata": {
        "id": "Ka1eHj_4M_zi"
      },
      "source": [
        "drive.flush_and_unmount()"
      ],
      "execution_count": null,
      "outputs": []
    },
    {
      "cell_type": "code",
      "metadata": {
        "id": "N77uBa6mMPyy"
      },
      "source": [
        "import re\n",
        "\n",
        "def preprocess_text(text):\n",
        "    text = text.lower().replace(\"ё\", \"е\")\n",
        "    #text = re.sub('((www\\.[^\\s]+)|(https?://[^\\s]+))','URL', text)\n",
        "    #text = re.sub('@[^\\s]+','USER', text)\n",
        "    text = re.sub('[1-9]+', 'цфр', text)\n",
        "    text = re.sub('[^a-zA-Zа-яА-Я1-9]+', ' ', text)\n",
        "    #text = re.sub(' +',' ', text)\n",
        "    return text.strip()"
      ],
      "execution_count": null,
      "outputs": []
    },
    {
      "cell_type": "code",
      "metadata": {
        "id": "Me1q6RjIMPy1"
      },
      "source": [
        "preprocessed_data = meduza_bal.text.apply(lambda x: len(x.split()))"
      ],
      "execution_count": null,
      "outputs": []
    },
    {
      "cell_type": "code",
      "metadata": {
        "id": "LAQb7DOEMPy2",
        "colab": {
          "base_uri": "https://localhost:8080/",
          "height": 558
        },
        "outputId": "3d268049-bad4-4727-db8f-0013bc485049"
      },
      "source": [
        "plt.style.use('ggplot')\n",
        "\n",
        "plt.figure(figsize=(16, 9)) \n",
        "# facecolor='g'\n",
        "n, bins, patches = plt.hist(preprocessed_data.values, 50, density=True)\n",
        "plt.xlabel('Number of words in a text')\n",
        "plt.ylabel('Share of texts')\n",
        "plt.axis([0, 100, 0, 0.08])\n",
        "plt.grid(True)\n",
        "plt.show()"
      ],
      "execution_count": null,
      "outputs": [
        {
          "output_type": "display_data",
          "data": {
            "image/png": "[encoded data removed]",
            "text/plain": [
              "<Figure size 1152x648 with 1 Axes>"
            ]
          },
          "metadata": {
            "tags": []
          }
        }
      ]
    },
    {
      "cell_type": "code",
      "metadata": {
        "id": "cGJc1pW7MPy3",
        "colab": {
          "base_uri": "https://localhost:8080/"
        },
        "outputId": "9c7941c8-c02b-47ce-b6bd-3ed258b393a3"
      },
      "source": [
        "for i in range(40, 60, 1):\n",
        "    preprocessed_data>i\n",
        "    print(\"%0.5f for sentence_length=%r\" % (1-(preprocessed_data>i).sum()/preprocessed_data.shape[0], i))"
      ],
      "execution_count": null,
      "outputs": [
        {
          "output_type": "stream",
          "text": [
            "0.97880 for sentence_length=40\n",
            "0.98145 for sentence_length=41\n",
            "0.98384 for sentence_length=42\n",
            "0.98588 for sentence_length=43\n",
            "0.98762 for sentence_length=44\n",
            "0.98917 for sentence_length=45\n",
            "0.99044 for sentence_length=46\n",
            "0.99165 for sentence_length=47\n",
            "0.99264 for sentence_length=48\n",
            "0.99350 for sentence_length=49\n",
            "0.99434 for sentence_length=50\n",
            "0.99509 for sentence_length=51\n",
            "0.99567 for sentence_length=52\n",
            "0.99624 for sentence_length=53\n",
            "0.99667 for sentence_length=54\n",
            "0.99708 for sentence_length=55\n",
            "0.99741 for sentence_length=56\n",
            "0.99775 for sentence_length=57\n",
            "0.99804 for sentence_length=58\n",
            "0.99828 for sentence_length=59\n"
          ],
          "name": "stdout"
        }
      ]
    },
    {
      "cell_type": "markdown",
      "metadata": {
        "id": "JlZF8Su9MPy3"
      },
      "source": [
        "## 2. Training the model\n",
        "Gensim [3] was used for obtaining vector representations of Russian words. The model was trained on the entire dataset, which was collected and pre-processed at the previous steps."
      ]
    },
    {
      "cell_type": "code",
      "metadata": {
        "id": "GOwPTjvrTcRc"
      },
      "source": [
        "data = list(meduza_bal.text.apply(lambda x: preprocess_text(x).split()))"
      ],
      "execution_count": null,
      "outputs": []
    },
    {
      "cell_type": "code",
      "metadata": {
        "colab": {
          "base_uri": "https://localhost:8080/"
        },
        "id": "KKpG6qqJUV8q",
        "outputId": "9c41f3df-7389-4c3c-e371-3739cc6f9e05"
      },
      "source": [
        "data[0:5]"
      ],
      "execution_count": null,
      "outputs": [
        {
          "output_type": "execute_result",
          "data": {
            "text/plain": [
              "[['даже',\n",
              "  'в',\n",
              "  'коллективном',\n",
              "  'творчестве',\n",
              "  'редко',\n",
              "  'можно',\n",
              "  'обойтись',\n",
              "  'без',\n",
              "  'основного',\n",
              "  'автора',\n",
              "  'который',\n",
              "  'придал',\n",
              "  'бы',\n",
              "  'направление',\n",
              "  'произведение',\n",
              "  'и',\n",
              "  'попытался',\n",
              "  'бы',\n",
              "  'в',\n",
              "  'нем',\n",
              "  'хоть',\n",
              "  'что',\n",
              "  'то',\n",
              "  'сказать',\n",
              "  'а',\n",
              "  'не',\n",
              "  'только',\n",
              "  'рассказать'],\n",
              " ['кто', 'то', 'промолчал', 'по', 'ряда', 'личных', 'причин'],\n",
              " ['направлять',\n",
              "  'трафику',\n",
              "  'за',\n",
              "  'пределы',\n",
              "  'россии',\n",
              "  'будет',\n",
              "  'запрещено',\n",
              "  'кроме',\n",
              "  'случаев',\n",
              "  'когда',\n",
              "  'это',\n",
              "  'затрагивает',\n",
              "  'сообщения',\n",
              "  'между',\n",
              "  'пользователями',\n",
              "  'из',\n",
              "  'калининградской',\n",
              "  'области',\n",
              "  'и',\n",
              "  'других',\n",
              "  'регионов',\n",
              "  'рф'],\n",
              " ['к',\n",
              "  'январю',\n",
              "  'цфр',\n",
              "  'цфр',\n",
              "  'года',\n",
              "  'в',\n",
              "  'сети',\n",
              "  'задолжавшей',\n",
              "  'кредиторов',\n",
              "  'миллиарды',\n",
              "  'рублей',\n",
              "  'осталось',\n",
              "  'лишь',\n",
              "  'пять',\n",
              "  'кинотеатров',\n",
              "  'три',\n",
              "  'закрылись',\n",
              "  'еще',\n",
              "  'цфр',\n",
              "  'стали',\n",
              "  'работать',\n",
              "  'под',\n",
              "  'другими',\n",
              "  'брендами'],\n",
              " ['у',\n",
              "  'каждого',\n",
              "  'фонда',\n",
              "  'есть',\n",
              "  'свой',\n",
              "  'устав',\n",
              "  'и',\n",
              "  'положение',\n",
              "  'о',\n",
              "  'программ',\n",
              "  'где',\n",
              "  'в',\n",
              "  'том',\n",
              "  'числе',\n",
              "  'прописано',\n",
              "  'как',\n",
              "  'благотворители',\n",
              "  'выбирают',\n",
              "  'адресатов',\n",
              "  'помощи']]"
            ]
          },
          "metadata": {
            "tags": []
          },
          "execution_count": 62
        }
      ]
    },
    {
      "cell_type": "code",
      "metadata": {
        "id": "6sMT4JlzMPy4",
        "colab": {
          "base_uri": "https://localhost:8080/"
        },
        "outputId": "4507a0b8-2381-4475-a608-16bfc27d404c"
      },
      "source": [
        "import logging\n",
        "import multiprocessing\n",
        "import gensim\n",
        "from gensim.models import Word2Vec\n",
        "\n",
        "logging.basicConfig(format='%(asctime)s : %(levelname)s : %(message)s', level=logging.INFO)\n",
        "\n",
        "#data = gensim.models.word2vec.LineSentence('tweets.txt')\n",
        "model = Word2Vec(data, size=200, window=5, min_count=3, workers=multiprocessing.cpu_count())"
      ],
      "execution_count": null,
      "outputs": [
        {
          "output_type": "stream",
          "text": [
            "2021-07-28 09:24:29,700 : INFO : collecting all words and their counts\n",
            "2021-07-28 09:24:29,703 : INFO : PROGRESS: at sentence #0, processed 0 words, keeping 0 word types\n",
            "2021-07-28 09:24:29,769 : INFO : PROGRESS: at sentence #10000, processed 170085 words, keeping 38742 word types\n",
            "2021-07-28 09:24:29,838 : INFO : PROGRESS: at sentence #20000, processed 338899 words, keeping 58900 word types\n",
            "2021-07-28 09:24:29,904 : INFO : PROGRESS: at sentence #30000, processed 509227 words, keeping 74314 word types\n",
            "2021-07-28 09:24:29,973 : INFO : PROGRESS: at sentence #40000, processed 678384 words, keeping 87065 word types\n",
            "2021-07-28 09:24:30,046 : INFO : PROGRESS: at sentence #50000, processed 848871 words, keeping 98132 word types\n",
            "2021-07-28 09:24:30,119 : INFO : PROGRESS: at sentence #60000, processed 1017186 words, keeping 107803 word types\n",
            "2021-07-28 09:24:30,192 : INFO : PROGRESS: at sentence #70000, processed 1186679 words, keeping 116633 word types\n",
            "2021-07-28 09:24:30,260 : INFO : PROGRESS: at sentence #80000, processed 1354490 words, keeping 124822 word types\n",
            "2021-07-28 09:24:30,330 : INFO : PROGRESS: at sentence #90000, processed 1524503 words, keeping 132192 word types\n",
            "2021-07-28 09:24:30,398 : INFO : PROGRESS: at sentence #100000, processed 1693764 words, keeping 139316 word types\n",
            "2021-07-28 09:24:30,467 : INFO : PROGRESS: at sentence #110000, processed 1862160 words, keeping 145793 word types\n",
            "2021-07-28 09:24:30,543 : INFO : PROGRESS: at sentence #120000, processed 2032144 words, keeping 151923 word types\n",
            "2021-07-28 09:24:30,618 : INFO : PROGRESS: at sentence #130000, processed 2201482 words, keeping 157704 word types\n",
            "2021-07-28 09:24:30,691 : INFO : PROGRESS: at sentence #140000, processed 2369674 words, keeping 163186 word types\n",
            "2021-07-28 09:24:30,767 : INFO : PROGRESS: at sentence #150000, processed 2537741 words, keeping 168349 word types\n",
            "2021-07-28 09:24:30,838 : INFO : PROGRESS: at sentence #160000, processed 2707442 words, keeping 173508 word types\n",
            "2021-07-28 09:24:30,916 : INFO : PROGRESS: at sentence #170000, processed 2876556 words, keeping 178397 word types\n",
            "2021-07-28 09:24:30,992 : INFO : PROGRESS: at sentence #180000, processed 3047171 words, keeping 183144 word types\n",
            "2021-07-28 09:24:31,063 : INFO : PROGRESS: at sentence #190000, processed 3216191 words, keeping 187626 word types\n",
            "2021-07-28 09:24:31,135 : INFO : PROGRESS: at sentence #200000, processed 3386107 words, keeping 191884 word types\n",
            "2021-07-28 09:24:31,210 : INFO : PROGRESS: at sentence #210000, processed 3553313 words, keeping 195951 word types\n",
            "2021-07-28 09:24:31,280 : INFO : PROGRESS: at sentence #220000, processed 3722975 words, keeping 199899 word types\n",
            "2021-07-28 09:24:31,357 : INFO : PROGRESS: at sentence #230000, processed 3893293 words, keeping 203863 word types\n",
            "2021-07-28 09:24:31,429 : INFO : PROGRESS: at sentence #240000, processed 4062844 words, keeping 207689 word types\n",
            "2021-07-28 09:24:31,504 : INFO : PROGRESS: at sentence #250000, processed 4231845 words, keeping 211452 word types\n",
            "2021-07-28 09:24:31,584 : INFO : PROGRESS: at sentence #260000, processed 4401537 words, keeping 215089 word types\n",
            "2021-07-28 09:24:31,658 : INFO : PROGRESS: at sentence #270000, processed 4570958 words, keeping 218657 word types\n",
            "2021-07-28 09:24:31,733 : INFO : PROGRESS: at sentence #280000, processed 4741126 words, keeping 221965 word types\n",
            "2021-07-28 09:24:31,808 : INFO : PROGRESS: at sentence #290000, processed 4910042 words, keeping 225280 word types\n",
            "2021-07-28 09:24:31,893 : INFO : PROGRESS: at sentence #300000, processed 5078602 words, keeping 228441 word types\n",
            "2021-07-28 09:24:31,968 : INFO : PROGRESS: at sentence #310000, processed 5247225 words, keeping 231506 word types\n",
            "2021-07-28 09:24:32,049 : INFO : PROGRESS: at sentence #320000, processed 5416511 words, keeping 234710 word types\n",
            "2021-07-28 09:24:32,130 : INFO : PROGRESS: at sentence #330000, processed 5586078 words, keeping 237772 word types\n",
            "2021-07-28 09:24:32,208 : INFO : PROGRESS: at sentence #340000, processed 5754809 words, keeping 240673 word types\n",
            "2021-07-28 09:24:32,285 : INFO : PROGRESS: at sentence #350000, processed 5923848 words, keeping 243491 word types\n",
            "2021-07-28 09:24:32,364 : INFO : PROGRESS: at sentence #360000, processed 6094036 words, keeping 246366 word types\n",
            "2021-07-28 09:24:32,429 : INFO : collected 248716 word types from a corpus of 6237903 raw words and 368580 sentences\n",
            "2021-07-28 09:24:32,431 : INFO : Loading a fresh vocabulary\n",
            "2021-07-28 09:24:33,207 : INFO : effective_min_count=3 retains 110757 unique words (44% of original 248716, drops 137959)\n",
            "2021-07-28 09:24:33,208 : INFO : effective_min_count=3 leaves 6062576 word corpus (97% of original 6237903, drops 175327)\n",
            "2021-07-28 09:24:33,607 : INFO : deleting the raw counts dictionary of 248716 items\n",
            "2021-07-28 09:24:33,614 : INFO : sample=0.001 downsamples 25 most-common words\n",
            "2021-07-28 09:24:33,621 : INFO : downsampling leaves estimated 5203209 word corpus (85.8% of prior 6062576)\n",
            "2021-07-28 09:24:34,089 : INFO : estimated required memory for 110757 words and 200 dimensions: 232589700 bytes\n",
            "2021-07-28 09:24:34,091 : INFO : resetting layer weights\n",
            "2021-07-28 09:24:57,116 : INFO : training model with 2 workers on 110757 vocabulary and 200 features, using sg=0 hs=0 sample=0.001 negative=5 window=5\n",
            "2021-07-28 09:24:58,139 : INFO : EPOCH 1 - PROGRESS: at 6.72% examples, 344824 words/s, in_qsize 3, out_qsize 0\n",
            "2021-07-28 09:24:59,147 : INFO : EPOCH 1 - PROGRESS: at 13.26% examples, 341822 words/s, in_qsize 2, out_qsize 1\n",
            "2021-07-28 09:25:00,167 : INFO : EPOCH 1 - PROGRESS: at 20.00% examples, 342332 words/s, in_qsize 3, out_qsize 0\n",
            "2021-07-28 09:25:01,181 : INFO : EPOCH 1 - PROGRESS: at 26.88% examples, 345044 words/s, in_qsize 3, out_qsize 0\n",
            "2021-07-28 09:25:02,188 : INFO : EPOCH 1 - PROGRESS: at 33.45% examples, 343933 words/s, in_qsize 3, out_qsize 0\n",
            "2021-07-28 09:25:03,209 : INFO : EPOCH 1 - PROGRESS: at 40.21% examples, 343762 words/s, in_qsize 3, out_qsize 0\n",
            "2021-07-28 09:25:04,234 : INFO : EPOCH 1 - PROGRESS: at 46.92% examples, 343369 words/s, in_qsize 2, out_qsize 1\n",
            "2021-07-28 09:25:05,244 : INFO : EPOCH 1 - PROGRESS: at 53.31% examples, 341654 words/s, in_qsize 3, out_qsize 0\n",
            "2021-07-28 09:25:06,257 : INFO : EPOCH 1 - PROGRESS: at 60.05% examples, 342123 words/s, in_qsize 3, out_qsize 0\n",
            "2021-07-28 09:25:07,258 : INFO : EPOCH 1 - PROGRESS: at 66.61% examples, 342013 words/s, in_qsize 3, out_qsize 0\n",
            "2021-07-28 09:25:08,272 : INFO : EPOCH 1 - PROGRESS: at 73.32% examples, 342270 words/s, in_qsize 3, out_qsize 0\n",
            "2021-07-28 09:25:09,275 : INFO : EPOCH 1 - PROGRESS: at 80.04% examples, 342819 words/s, in_qsize 3, out_qsize 0\n",
            "2021-07-28 09:25:10,287 : INFO : EPOCH 1 - PROGRESS: at 86.30% examples, 341159 words/s, in_qsize 3, out_qsize 0\n",
            "2021-07-28 09:25:11,313 : INFO : EPOCH 1 - PROGRESS: at 93.04% examples, 341142 words/s, in_qsize 3, out_qsize 0\n",
            "2021-07-28 09:25:12,325 : INFO : EPOCH 1 - PROGRESS: at 99.59% examples, 340889 words/s, in_qsize 3, out_qsize 0\n",
            "2021-07-28 09:25:12,366 : INFO : worker thread finished; awaiting finish of 1 more threads\n",
            "2021-07-28 09:25:12,378 : INFO : worker thread finished; awaiting finish of 0 more threads\n",
            "2021-07-28 09:25:12,380 : INFO : EPOCH - 1 : training on 6237903 raw words (5202680 effective words) took 15.3s, 341033 effective words/s\n",
            "2021-07-28 09:25:13,402 : INFO : EPOCH 2 - PROGRESS: at 6.72% examples, 344935 words/s, in_qsize 3, out_qsize 0\n",
            "2021-07-28 09:25:14,413 : INFO : EPOCH 2 - PROGRESS: at 13.41% examples, 345723 words/s, in_qsize 3, out_qsize 0\n",
            "2021-07-28 09:25:15,413 : INFO : EPOCH 2 - PROGRESS: at 20.32% examples, 349881 words/s, in_qsize 3, out_qsize 0\n",
            "2021-07-28 09:25:16,420 : INFO : EPOCH 2 - PROGRESS: at 27.20% examples, 351276 words/s, in_qsize 3, out_qsize 0\n",
            "2021-07-28 09:25:17,443 : INFO : EPOCH 2 - PROGRESS: at 33.77% examples, 347780 words/s, in_qsize 3, out_qsize 0\n",
            "2021-07-28 09:25:18,457 : INFO : EPOCH 2 - PROGRESS: at 40.69% examples, 348792 words/s, in_qsize 3, out_qsize 0\n",
            "2021-07-28 09:25:19,491 : INFO : EPOCH 2 - PROGRESS: at 47.25% examples, 346048 words/s, in_qsize 3, out_qsize 0\n",
            "2021-07-28 09:25:20,521 : INFO : EPOCH 2 - PROGRESS: at 53.63% examples, 343187 words/s, in_qsize 3, out_qsize 0\n",
            "2021-07-28 09:25:21,547 : INFO : EPOCH 2 - PROGRESS: at 60.53% examples, 343901 words/s, in_qsize 3, out_qsize 0\n",
            "2021-07-28 09:25:22,562 : INFO : EPOCH 2 - PROGRESS: at 67.25% examples, 343976 words/s, in_qsize 3, out_qsize 0\n",
            "2021-07-28 09:25:23,574 : INFO : EPOCH 2 - PROGRESS: at 73.95% examples, 344148 words/s, in_qsize 3, out_qsize 0\n",
            "2021-07-28 09:25:24,581 : INFO : EPOCH 2 - PROGRESS: at 80.68% examples, 344451 words/s, in_qsize 4, out_qsize 0\n",
            "2021-07-28 09:25:25,587 : INFO : EPOCH 2 - PROGRESS: at 87.42% examples, 344720 words/s, in_qsize 3, out_qsize 0\n",
            "2021-07-28 09:25:26,597 : INFO : EPOCH 2 - PROGRESS: at 94.15% examples, 344852 words/s, in_qsize 3, out_qsize 0\n",
            "2021-07-28 09:25:27,452 : INFO : worker thread finished; awaiting finish of 1 more threads\n",
            "2021-07-28 09:25:27,462 : INFO : worker thread finished; awaiting finish of 0 more threads\n",
            "2021-07-28 09:25:27,464 : INFO : EPOCH - 2 : training on 6237903 raw words (5204316 effective words) took 15.1s, 345199 effective words/s\n",
            "2021-07-28 09:25:28,482 : INFO : EPOCH 3 - PROGRESS: at 6.72% examples, 347908 words/s, in_qsize 3, out_qsize 0\n",
            "2021-07-28 09:25:29,488 : INFO : EPOCH 3 - PROGRESS: at 13.57% examples, 352115 words/s, in_qsize 3, out_qsize 0\n",
            "2021-07-28 09:25:30,501 : INFO : EPOCH 3 - PROGRESS: at 20.00% examples, 344440 words/s, in_qsize 3, out_qsize 0\n",
            "2021-07-28 09:25:31,511 : INFO : EPOCH 3 - PROGRESS: at 26.71% examples, 344929 words/s, in_qsize 3, out_qsize 0\n",
            "2021-07-28 09:25:32,522 : INFO : EPOCH 3 - PROGRESS: at 33.45% examples, 345163 words/s, in_qsize 3, out_qsize 0\n",
            "2021-07-28 09:25:33,526 : INFO : EPOCH 3 - PROGRESS: at 40.05% examples, 344370 words/s, in_qsize 3, out_qsize 0\n",
            "2021-07-28 09:25:34,566 : INFO : EPOCH 3 - PROGRESS: at 46.28% examples, 339628 words/s, in_qsize 3, out_qsize 0\n",
            "2021-07-28 09:25:35,591 : INFO : EPOCH 3 - PROGRESS: at 52.99% examples, 339801 words/s, in_qsize 3, out_qsize 0\n",
            "2021-07-28 09:25:36,603 : INFO : EPOCH 3 - PROGRESS: at 59.41% examples, 338663 words/s, in_qsize 2, out_qsize 1\n",
            "2021-07-28 09:25:37,611 : INFO : EPOCH 3 - PROGRESS: at 65.80% examples, 337856 words/s, in_qsize 3, out_qsize 0\n",
            "2021-07-28 09:25:38,631 : INFO : EPOCH 3 - PROGRESS: at 72.20% examples, 336828 words/s, in_qsize 3, out_qsize 0\n",
            "2021-07-28 09:25:39,632 : INFO : EPOCH 3 - PROGRESS: at 78.75% examples, 337209 words/s, in_qsize 3, out_qsize 0\n",
            "2021-07-28 09:25:40,656 : INFO : EPOCH 3 - PROGRESS: at 85.35% examples, 336943 words/s, in_qsize 3, out_qsize 0\n",
            "2021-07-28 09:25:41,670 : INFO : EPOCH 3 - PROGRESS: at 91.91% examples, 336941 words/s, in_qsize 3, out_qsize 0\n",
            "2021-07-28 09:25:42,683 : INFO : EPOCH 3 - PROGRESS: at 98.47% examples, 336981 words/s, in_qsize 3, out_qsize 0\n",
            "2021-07-28 09:25:42,901 : INFO : worker thread finished; awaiting finish of 1 more threads\n",
            "2021-07-28 09:25:42,904 : INFO : worker thread finished; awaiting finish of 0 more threads\n",
            "2021-07-28 09:25:42,906 : INFO : EPOCH - 3 : training on 6237903 raw words (5203758 effective words) took 15.4s, 337243 effective words/s\n",
            "2021-07-28 09:25:43,922 : INFO : EPOCH 4 - PROGRESS: at 6.56% examples, 340419 words/s, in_qsize 3, out_qsize 0\n",
            "2021-07-28 09:25:44,933 : INFO : EPOCH 4 - PROGRESS: at 13.26% examples, 343357 words/s, in_qsize 3, out_qsize 1\n",
            "2021-07-28 09:25:45,936 : INFO : EPOCH 4 - PROGRESS: at 19.68% examples, 339780 words/s, in_qsize 3, out_qsize 0\n",
            "2021-07-28 09:25:46,937 : INFO : EPOCH 4 - PROGRESS: at 26.09% examples, 338096 words/s, in_qsize 3, out_qsize 0\n",
            "2021-07-28 09:25:47,973 : INFO : EPOCH 4 - PROGRESS: at 32.82% examples, 338098 words/s, in_qsize 2, out_qsize 1\n",
            "2021-07-28 09:25:48,992 : INFO : EPOCH 4 - PROGRESS: at 39.40% examples, 337714 words/s, in_qsize 3, out_qsize 0\n",
            "2021-07-28 09:25:50,025 : INFO : EPOCH 4 - PROGRESS: at 46.13% examples, 337752 words/s, in_qsize 3, out_qsize 0\n",
            "2021-07-28 09:25:51,033 : INFO : EPOCH 4 - PROGRESS: at 52.67% examples, 337899 words/s, in_qsize 3, out_qsize 0\n",
            "2021-07-28 09:25:52,060 : INFO : EPOCH 4 - PROGRESS: at 59.41% examples, 338266 words/s, in_qsize 3, out_qsize 0\n",
            "2021-07-28 09:25:53,068 : INFO : EPOCH 4 - PROGRESS: at 65.80% examples, 337488 words/s, in_qsize 3, out_qsize 0\n",
            "2021-07-28 09:25:54,071 : INFO : EPOCH 4 - PROGRESS: at 72.52% examples, 338517 words/s, in_qsize 3, out_qsize 0\n",
            "2021-07-28 09:25:55,113 : INFO : EPOCH 4 - PROGRESS: at 79.39% examples, 338984 words/s, in_qsize 3, out_qsize 0\n",
            "2021-07-28 09:25:56,141 : INFO : EPOCH 4 - PROGRESS: at 86.30% examples, 339730 words/s, in_qsize 3, out_qsize 0\n",
            "2021-07-28 09:25:57,157 : INFO : EPOCH 4 - PROGRESS: at 92.71% examples, 338911 words/s, in_qsize 3, out_qsize 0\n",
            "2021-07-28 09:25:58,183 : INFO : EPOCH 4 - PROGRESS: at 99.43% examples, 339068 words/s, in_qsize 3, out_qsize 0\n",
            "2021-07-28 09:25:58,239 : INFO : worker thread finished; awaiting finish of 1 more threads\n",
            "2021-07-28 09:25:58,254 : INFO : worker thread finished; awaiting finish of 0 more threads\n",
            "2021-07-28 09:25:58,255 : INFO : EPOCH - 4 : training on 6237903 raw words (5204829 effective words) took 15.3s, 339370 effective words/s\n",
            "2021-07-28 09:25:59,288 : INFO : EPOCH 5 - PROGRESS: at 6.56% examples, 334269 words/s, in_qsize 3, out_qsize 0\n",
            "2021-07-28 09:26:00,326 : INFO : EPOCH 5 - PROGRESS: at 13.26% examples, 335705 words/s, in_qsize 3, out_qsize 0\n",
            "2021-07-28 09:26:01,327 : INFO : EPOCH 5 - PROGRESS: at 19.68% examples, 334765 words/s, in_qsize 3, out_qsize 0\n",
            "2021-07-28 09:26:02,339 : INFO : EPOCH 5 - PROGRESS: at 26.25% examples, 335457 words/s, in_qsize 3, out_qsize 0\n",
            "2021-07-28 09:26:03,340 : INFO : EPOCH 5 - PROGRESS: at 32.65% examples, 334915 words/s, in_qsize 3, out_qsize 0\n",
            "2021-07-28 09:26:04,362 : INFO : EPOCH 5 - PROGRESS: at 39.08% examples, 333527 words/s, in_qsize 3, out_qsize 0\n",
            "2021-07-28 09:26:05,362 : INFO : EPOCH 5 - PROGRESS: at 45.50% examples, 333423 words/s, in_qsize 3, out_qsize 0\n",
            "2021-07-28 09:26:06,386 : INFO : EPOCH 5 - PROGRESS: at 51.88% examples, 332429 words/s, in_qsize 3, out_qsize 0\n",
            "2021-07-28 09:26:07,420 : INFO : EPOCH 5 - PROGRESS: at 58.62% examples, 333093 words/s, in_qsize 2, out_qsize 1\n",
            "2021-07-28 09:26:08,429 : INFO : EPOCH 5 - PROGRESS: at 65.00% examples, 332814 words/s, in_qsize 2, out_qsize 1\n",
            "2021-07-28 09:26:09,461 : INFO : EPOCH 5 - PROGRESS: at 71.72% examples, 333371 words/s, in_qsize 3, out_qsize 0\n",
            "2021-07-28 09:26:10,467 : INFO : EPOCH 5 - PROGRESS: at 78.12% examples, 333201 words/s, in_qsize 3, out_qsize 0\n",
            "2021-07-28 09:26:11,471 : INFO : EPOCH 5 - PROGRESS: at 84.86% examples, 334355 words/s, in_qsize 3, out_qsize 0\n",
            "2021-07-28 09:26:12,471 : INFO : EPOCH 5 - PROGRESS: at 91.27% examples, 334298 words/s, in_qsize 3, out_qsize 0\n",
            "2021-07-28 09:26:13,479 : INFO : EPOCH 5 - PROGRESS: at 97.66% examples, 334040 words/s, in_qsize 3, out_qsize 0\n",
            "2021-07-28 09:26:13,807 : INFO : worker thread finished; awaiting finish of 1 more threads\n",
            "2021-07-28 09:26:13,825 : INFO : worker thread finished; awaiting finish of 0 more threads\n",
            "2021-07-28 09:26:13,826 : INFO : EPOCH - 5 : training on 6237903 raw words (5202661 effective words) took 15.6s, 334346 effective words/s\n",
            "2021-07-28 09:26:13,828 : INFO : training on a 31189515 raw words (26018244 effective words) took 76.7s, 339174 effective words/s\n"
          ],
          "name": "stderr"
        }
      ]
    },
    {
      "cell_type": "code",
      "metadata": {
        "id": "aVmrBAuwMPy5",
        "colab": {
          "base_uri": "https://localhost:8080/"
        },
        "outputId": "c166c3ec-6148-46bc-b44d-b820bd8535d1"
      },
      "source": [
        "model.save(\"/content/drive/MyDrive/w266_project/models/word2vec/meduza_w2v_big.w2v\")"
      ],
      "execution_count": null,
      "outputs": [
        {
          "output_type": "stream",
          "text": [
            "2021-07-28 09:27:01,720 : INFO : saving Word2Vec object under /content/drive/MyDrive/w266_project/models/word2vec/meduza_w2v_big.w2v, separately None\n",
            "2021-07-28 09:27:01,725 : INFO : storing np array 'vectors' to /content/drive/MyDrive/w266_project/models/word2vec/meduza_w2v_big.w2v.wv.vectors.npy\n",
            "2021-07-28 09:27:01,974 : INFO : not storing attribute vectors_norm\n",
            "2021-07-28 09:27:01,976 : INFO : storing np array 'syn1neg' to /content/drive/MyDrive/w266_project/models/word2vec/meduza_w2v_big.w2v.trainables.syn1neg.npy\n",
            "2021-07-28 09:27:02,296 : INFO : not storing attribute cum_table\n",
            "2021-07-28 09:27:02,581 : INFO : saved /content/drive/MyDrive/w266_project/models/word2vec/meduza_w2v_big.w2v\n"
          ],
          "name": "stderr"
        }
      ]
    },
    {
      "cell_type": "markdown",
      "metadata": {
        "id": "sLIiyGqvMPy6"
      },
      "source": [
        "## 3. Visualization\n",
        "\n",
        "t-SNE was used to plot a subset of similar words from trained Word2Vec model. Firstly, similar words were found and appended each of the similar words embedding vector to the matrix. Secondly, t-SNE was applied to the matrix in order to project each word to a 2D space (i.e. dimension reduction). Finally, the 2D position of each word with a label was plotted."
      ]
    },
    {
      "cell_type": "code",
      "metadata": {
        "id": "T4h7m6H2MPy6",
        "colab": {
          "base_uri": "https://localhost:8080/"
        },
        "outputId": "4d2cd728-3ac4-4da1-823a-6d56643328df"
      },
      "source": [
        "from gensim.models import Word2Vec\n",
        "\n",
        "model = Word2Vec.load('/content/drive/MyDrive/w266_project/models/word2vec/meduza_w2v_big.w2v')"
      ],
      "execution_count": null,
      "outputs": [
        {
          "output_type": "stream",
          "text": [
            "2021-07-28 09:27:23,474 : INFO : loading Word2Vec object from /content/drive/MyDrive/w266_project/models/word2vec/meduza_w2v_big.w2v\n",
            "2021-07-28 09:27:23,676 : INFO : loading wv recursively from /content/drive/MyDrive/w266_project/models/word2vec/meduza_w2v_big.w2v.wv.* with mmap=None\n",
            "2021-07-28 09:27:23,678 : INFO : loading vectors from /content/drive/MyDrive/w266_project/models/word2vec/meduza_w2v_big.w2v.wv.vectors.npy with mmap=None\n",
            "2021-07-28 09:27:23,813 : INFO : setting ignored attribute vectors_norm to None\n",
            "2021-07-28 09:27:23,814 : INFO : loading vocabulary recursively from /content/drive/MyDrive/w266_project/models/word2vec/meduza_w2v_big.w2v.vocabulary.* with mmap=None\n",
            "2021-07-28 09:27:23,815 : INFO : loading trainables recursively from /content/drive/MyDrive/w266_project/models/word2vec/meduza_w2v_big.w2v.trainables.* with mmap=None\n",
            "2021-07-28 09:27:23,824 : INFO : loading syn1neg from /content/drive/MyDrive/w266_project/models/word2vec/meduza_w2v_big.w2v.trainables.syn1neg.npy with mmap=None\n",
            "2021-07-28 09:27:23,962 : INFO : setting ignored attribute cum_table to None\n",
            "2021-07-28 09:27:23,966 : INFO : loaded /content/drive/MyDrive/w266_project/models/word2vec/meduza_w2v_big.w2v\n"
          ],
          "name": "stderr"
        }
      ]
    },
    {
      "cell_type": "code",
      "metadata": {
        "id": "hqNUcD5PMPy6"
      },
      "source": [
        "from sklearn.manifold import TSNE\n",
        "import matplotlib.pyplot as plt\n",
        "import matplotlib.cm as cm\n",
        "import numpy as np\n",
        "% matplotlib inline\n",
        "\n",
        "\n",
        "def tsne_plot(labels, tokens, classes, clusters):\n",
        "    tsne_model = TSNE(perplexity=15, n_components=2, init='pca', n_iter=3500, random_state=33)\n",
        "    new_values = tsne_model.fit_transform(tokens)\n",
        "\n",
        "    x = []\n",
        "    y = []\n",
        "\n",
        "    for value in new_values:\n",
        "        x.append(value[0])\n",
        "        y.append(value[1])\n",
        "\n",
        "    colors = cm.tab10(np.linspace(0, 1, clusters))\n",
        "    plt.figure(figsize=(16, 9))\n",
        "    for i in range(len(x)):\n",
        "        plt.scatter(x[i], y[i], color=colors[classes[i]], alpha=0.75)\n",
        "        plt.annotate(labels[i], alpha=0.75, xy=(x[i], y[i]), xytext=(5, 2), \n",
        "                     textcoords='offset points', ha='right', va='bottom', size=10)\n",
        "    plt.grid(True)\n",
        "    plt.show()"
      ],
      "execution_count": null,
      "outputs": []
    },
    {
      "cell_type": "code",
      "metadata": {
        "id": "lMZcK94wMPy7"
      },
      "source": [
        "labels = []\n",
        "tokens = []\n",
        "classes = []\n",
        "\n",
        "keywords1 = ['путин', 'коррупция', 'война', 'фсб', 'санкции', 'здоровье', 'роскомнадзор', 'красивый', 'нравится', 'навальный']\n",
        "keywords2 = ['улица', 'место', 'рынок', 'разговор', 'решение', 'полиция', 'власть', 'больница', 'школа', 'встреча', 'год']\n",
        "\n",
        "samples = 15\n",
        "for i, word in enumerate(keywords2):#random.sample(list(model.wv.vocab), samples)):#['ссора', 'iphone', 'обидел', 'красивый', 'нравится', 'домашка']):#random.sample(list(model.wv.vocab), 10):\n",
        "    tokens.append(model.wv[word])\n",
        "    labels.append(word)\n",
        "    classes.append(i)\n",
        "    for similar_word, similarity in model.wv.most_similar(word, topn=5):\n",
        "        tokens.append(model.wv[similar_word])\n",
        "        labels.append(similar_word)\n",
        "        classes.append(i)"
      ],
      "execution_count": null,
      "outputs": []
    },
    {
      "cell_type": "code",
      "metadata": {
        "id": "s6I70wKYMPy8",
        "colab": {
          "base_uri": "https://localhost:8080/",
          "height": 537
        },
        "outputId": "ab2e1d6d-4bac-4483-c3d1-d8ea227a0f9b"
      },
      "source": [
        "tsne_plot(labels, tokens, classes, samples)"
      ],
      "execution_count": null,
      "outputs": [
        {
          "output_type": "display_data",
          "data": {
            "image/png": "[encoded data removed]",
            "text/plain": [
              "<Figure size 1152x648 with 1 Axes>"
            ]
          },
          "metadata": {
            "tags": [],
            "needs_background": "light"
          }
        }
      ]
    },
    {
      "cell_type": "markdown",
      "metadata": {
        "id": "iB32N711MPy9"
      },
      "source": [
        "## References\n",
        "1. Mikolov T. et al. Distributed representations of words and phrases and their compositionality //Advances in neural information processing systems. – 2013. – С. 3111-3119.\n",
        "2. Rubtsova U. Constructing a corpus for sentiment classification training //Software and Systems. – 2015. – №. 109. – С. 72-78.\n",
        "3. Rehurek R., Sojka P. “Software framework for topic modelling with large corpora”, Proceedings of the LREC 2010 Workshop on New Challenges for NLP Frameworks, pp. 46-50, 2010."
      ]
    },
    {
      "cell_type": "markdown",
      "metadata": {
        "id": "W8BmkmEdMPy9"
      },
      "source": [
        "<!--bibtex\n",
        "\n",
        "@Article{PER-GRA:2007,\n",
        "  Author    = {P\\'erez, Fernando and Granger, Brian E.},\n",
        "  Title     = {{IP}ython: a System for Interactive Scientific Computing},\n",
        "  Journal   = {Computing in Science and Engineering},\n",
        "  Volume    = {9},\n",
        "  Number    = {3},\n",
        "  Pages     = {21--29},\n",
        "  month     = may,\n",
        "  year      = 2007,\n",
        "  url       = \"http://ipython.org\",\n",
        "  ISSN      = \"1521-9615\",\n",
        "  doi       = {10.1109/MCSE.2007.53},\n",
        "  publisher = {IEEE Computer Society},\n",
        "}\n",
        "\n",
        "@article{Papa2007,\n",
        "  author = {Papa, David A. and Markov, Igor L.},\n",
        "  journal = {Approximation algorithms and metaheuristics},\n",
        "  pages = {1--38},\n",
        "  title = {{Hypergraph partitioning and clustering}},\n",
        "  url = {http://www.podload.org/pubs/book/part\\_survey.pdf},\n",
        "  year = {2007}\n",
        "}\n",
        "\n",
        "-->"
      ]
    }
  ]
}
